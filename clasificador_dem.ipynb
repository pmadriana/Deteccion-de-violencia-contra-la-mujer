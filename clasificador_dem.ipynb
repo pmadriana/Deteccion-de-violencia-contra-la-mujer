{
  "nbformat": 4,
  "nbformat_minor": 0,
  "metadata": {
    "colab": {
      "name": "clasificador_dem.ipynb",
      "provenance": []
    },
    "kernelspec": {
      "name": "python3",
      "display_name": "Python 3"
    },
    "language_info": {
      "name": "python"
    },
    "accelerator": "GPU"
  },
  "cells": [
    {
      "cell_type": "code",
      "source": [
        "!pip install keras==2.6.0"
      ],
      "metadata": {
        "colab": {
          "base_uri": "https://localhost:8080/"
        },
        "id": "8N1MZ7Vm0Xjk",
        "outputId": "81041274-e26a-468f-a773-f71d34827a5b"
      },
      "execution_count": null,
      "outputs": [
        {
          "output_type": "stream",
          "name": "stdout",
          "text": [
            "Collecting keras==2.6.0\n",
            "  Downloading keras-2.6.0-py2.py3-none-any.whl (1.3 MB)\n",
            "\u001b[K     |████████████████████████████████| 1.3 MB 5.1 MB/s \n",
            "\u001b[?25hInstalling collected packages: keras\n",
            "  Attempting uninstall: keras\n",
            "    Found existing installation: keras 2.7.0\n",
            "    Uninstalling keras-2.7.0:\n",
            "      Successfully uninstalled keras-2.7.0\n",
            "\u001b[31mERROR: pip's dependency resolver does not currently take into account all the packages that are installed. This behaviour is the source of the following dependency conflicts.\n",
            "tensorflow 2.7.0 requires keras<2.8,>=2.7.0rc0, but you have keras 2.6.0 which is incompatible.\u001b[0m\n",
            "Successfully installed keras-2.6.0\n"
          ]
        }
      ]
    },
    {
      "cell_type": "code",
      "source": [
        "import numpy as np # linear algebra\n",
        "import pandas as pd "
      ],
      "metadata": {
        "id": "7wzEaVpu0cHo"
      },
      "execution_count": null,
      "outputs": []
    },
    {
      "cell_type": "code",
      "source": [
        "from google.colab import drive\n",
        "drive.mount('/content/drive')"
      ],
      "metadata": {
        "colab": {
          "base_uri": "https://localhost:8080/"
        },
        "id": "Q3V0Ij340pDM",
        "outputId": "b528aab0-47ac-4f7f-c9b6-70799e760687"
      },
      "execution_count": null,
      "outputs": [
        {
          "output_type": "stream",
          "name": "stdout",
          "text": [
            "Mounted at /content/drive\n"
          ]
        }
      ]
    },
    {
      "cell_type": "code",
      "source": [
        "df = pd.read_csv('/content/drive/MyDrive/Colab Notebooks/DS/training/dataset2-lemma.csv')\n",
        "\n",
        "from sklearn.utils import shuffle\n",
        "#df = shuffle(df)\n",
        "\n",
        "df.head(250)\n",
        "#df = df.drop(labels=range(250, 300), axis=0)"
      ],
      "metadata": {
        "colab": {
          "base_uri": "https://localhost:8080/",
          "height": 424
        },
        "id": "234EBfv80Vei",
        "outputId": "3f4d7fc7-e49d-4423-d174-4d8cbf1587f5"
      },
      "execution_count": null,
      "outputs": [
        {
          "output_type": "execute_result",
          "data": {
            "text/html": [
              "\n",
              "  <div id=\"df-f213cc4e-0767-4958-85dd-268650379aa3\">\n",
              "    <div class=\"colab-df-container\">\n",
              "      <div>\n",
              "<style scoped>\n",
              "    .dataframe tbody tr th:only-of-type {\n",
              "        vertical-align: middle;\n",
              "    }\n",
              "\n",
              "    .dataframe tbody tr th {\n",
              "        vertical-align: top;\n",
              "    }\n",
              "\n",
              "    .dataframe thead th {\n",
              "        text-align: right;\n",
              "    }\n",
              "</style>\n",
              "<table border=\"1\" class=\"dataframe\">\n",
              "  <thead>\n",
              "    <tr style=\"text-align: right;\">\n",
              "      <th></th>\n",
              "      <th>id</th>\n",
              "      <th>tweet</th>\n",
              "      <th>text_processed</th>\n",
              "      <th>class</th>\n",
              "    </tr>\n",
              "  </thead>\n",
              "  <tbody>\n",
              "    <tr>\n",
              "      <th>0</th>\n",
              "      <td>1,48236E+18</td>\n",
              "      <td>Fabin Sanabria no era el que por lambonearle a...</td>\n",
              "      <td>fabin sanabrio lambonearle presidente santo as...</td>\n",
              "      <td>2</td>\n",
              "    </tr>\n",
              "    <tr>\n",
              "      <th>1</th>\n",
              "      <td>1,48236E+18</td>\n",
              "      <td>la dualidad de una mujer de querer coquetearle...</td>\n",
              "      <td>dualidad mujer querer coquetear él mundo vez q...</td>\n",
              "      <td>2</td>\n",
              "    </tr>\n",
              "    <tr>\n",
              "      <th>2</th>\n",
              "      <td>1,48236E+18</td>\n",
              "      <td>No precisaron la edad de cuando se hizo cura ...</td>\n",
              "      <td>precisar edad hacer cura l decir lola varios n...</td>\n",
              "      <td>2</td>\n",
              "    </tr>\n",
              "    <tr>\n",
              "      <th>3</th>\n",
              "      <td>1,48236E+18</td>\n",
              "      <td>Esta hija de un montonero y mujer de un camale...</td>\n",
              "      <td>hija montonero mujer camalar peronacho penoso ...</td>\n",
              "      <td>2</td>\n",
              "    </tr>\n",
              "    <tr>\n",
              "      <th>4</th>\n",
              "      <td>1,48236E+18</td>\n",
              "      <td>Una mujer abierta a comprender y a tr...</td>\n",
              "      <td>mujer abierto comprender trabajar necesidad di...</td>\n",
              "      <td>0</td>\n",
              "    </tr>\n",
              "    <tr>\n",
              "      <th>...</th>\n",
              "      <td>...</td>\n",
              "      <td>...</td>\n",
              "      <td>...</td>\n",
              "      <td>...</td>\n",
              "    </tr>\n",
              "    <tr>\n",
              "      <th>245</th>\n",
              "      <td>39</td>\n",
              "      <td>Callate perra</td>\n",
              "      <td>callate perra negro</td>\n",
              "      <td>1</td>\n",
              "    </tr>\n",
              "    <tr>\n",
              "      <th>246</th>\n",
              "      <td>43</td>\n",
              "      <td>Callate perra al rato empedamos</td>\n",
              "      <td>callate perra rato empedar</td>\n",
              "      <td>1</td>\n",
              "    </tr>\n",
              "    <tr>\n",
              "      <th>247</th>\n",
              "      <td>44</td>\n",
              "      <td>Que por cierto Danna Paola tu eres una gata as...</td>\n",
              "      <td>cierto   gata asqueroso soportable zorra celos...</td>\n",
              "      <td>1</td>\n",
              "    </tr>\n",
              "    <tr>\n",
              "      <th>248</th>\n",
              "      <td>45</td>\n",
              "      <td>Callate maldita escoria! Acaso no sabes con qu...</td>\n",
              "      <td>callate malditar escorio acaso saber habla des...</td>\n",
              "      <td>1</td>\n",
              "    </tr>\n",
              "    <tr>\n",
              "      <th>249</th>\n",
              "      <td>46</td>\n",
              "      <td>Callate zorra hdp</td>\n",
              "      <td>callate zorra hdp</td>\n",
              "      <td>1</td>\n",
              "    </tr>\n",
              "  </tbody>\n",
              "</table>\n",
              "<p>250 rows × 4 columns</p>\n",
              "</div>\n",
              "      <button class=\"colab-df-convert\" onclick=\"convertToInteractive('df-f213cc4e-0767-4958-85dd-268650379aa3')\"\n",
              "              title=\"Convert this dataframe to an interactive table.\"\n",
              "              style=\"display:none;\">\n",
              "        \n",
              "  <svg xmlns=\"http://www.w3.org/2000/svg\" height=\"24px\"viewBox=\"0 0 24 24\"\n",
              "       width=\"24px\">\n",
              "    <path d=\"M0 0h24v24H0V0z\" fill=\"none\"/>\n",
              "    <path d=\"M18.56 5.44l.94 2.06.94-2.06 2.06-.94-2.06-.94-.94-2.06-.94 2.06-2.06.94zm-11 1L8.5 8.5l.94-2.06 2.06-.94-2.06-.94L8.5 2.5l-.94 2.06-2.06.94zm10 10l.94 2.06.94-2.06 2.06-.94-2.06-.94-.94-2.06-.94 2.06-2.06.94z\"/><path d=\"M17.41 7.96l-1.37-1.37c-.4-.4-.92-.59-1.43-.59-.52 0-1.04.2-1.43.59L10.3 9.45l-7.72 7.72c-.78.78-.78 2.05 0 2.83L4 21.41c.39.39.9.59 1.41.59.51 0 1.02-.2 1.41-.59l7.78-7.78 2.81-2.81c.8-.78.8-2.07 0-2.86zM5.41 20L4 18.59l7.72-7.72 1.47 1.35L5.41 20z\"/>\n",
              "  </svg>\n",
              "      </button>\n",
              "      \n",
              "  <style>\n",
              "    .colab-df-container {\n",
              "      display:flex;\n",
              "      flex-wrap:wrap;\n",
              "      gap: 12px;\n",
              "    }\n",
              "\n",
              "    .colab-df-convert {\n",
              "      background-color: #E8F0FE;\n",
              "      border: none;\n",
              "      border-radius: 50%;\n",
              "      cursor: pointer;\n",
              "      display: none;\n",
              "      fill: #1967D2;\n",
              "      height: 32px;\n",
              "      padding: 0 0 0 0;\n",
              "      width: 32px;\n",
              "    }\n",
              "\n",
              "    .colab-df-convert:hover {\n",
              "      background-color: #E2EBFA;\n",
              "      box-shadow: 0px 1px 2px rgba(60, 64, 67, 0.3), 0px 1px 3px 1px rgba(60, 64, 67, 0.15);\n",
              "      fill: #174EA6;\n",
              "    }\n",
              "\n",
              "    [theme=dark] .colab-df-convert {\n",
              "      background-color: #3B4455;\n",
              "      fill: #D2E3FC;\n",
              "    }\n",
              "\n",
              "    [theme=dark] .colab-df-convert:hover {\n",
              "      background-color: #434B5C;\n",
              "      box-shadow: 0px 1px 3px 1px rgba(0, 0, 0, 0.15);\n",
              "      filter: drop-shadow(0px 1px 2px rgba(0, 0, 0, 0.3));\n",
              "      fill: #FFFFFF;\n",
              "    }\n",
              "  </style>\n",
              "\n",
              "      <script>\n",
              "        const buttonEl =\n",
              "          document.querySelector('#df-f213cc4e-0767-4958-85dd-268650379aa3 button.colab-df-convert');\n",
              "        buttonEl.style.display =\n",
              "          google.colab.kernel.accessAllowed ? 'block' : 'none';\n",
              "\n",
              "        async function convertToInteractive(key) {\n",
              "          const element = document.querySelector('#df-f213cc4e-0767-4958-85dd-268650379aa3');\n",
              "          const dataTable =\n",
              "            await google.colab.kernel.invokeFunction('convertToInteractive',\n",
              "                                                     [key], {});\n",
              "          if (!dataTable) return;\n",
              "\n",
              "          const docLinkHtml = 'Like what you see? Visit the ' +\n",
              "            '<a target=\"_blank\" href=https://colab.research.google.com/notebooks/data_table.ipynb>data table notebook</a>'\n",
              "            + ' to learn more about interactive tables.';\n",
              "          element.innerHTML = '';\n",
              "          dataTable['output_type'] = 'display_data';\n",
              "          await google.colab.output.renderOutput(dataTable, element);\n",
              "          const docLink = document.createElement('div');\n",
              "          docLink.innerHTML = docLinkHtml;\n",
              "          element.appendChild(docLink);\n",
              "        }\n",
              "      </script>\n",
              "    </div>\n",
              "  </div>\n",
              "  "
            ],
            "text/plain": [
              "              id  ... class\n",
              "0    1,48236E+18  ...     2\n",
              "1    1,48236E+18  ...     2\n",
              "2    1,48236E+18  ...     2\n",
              "3    1,48236E+18  ...     2\n",
              "4    1,48236E+18  ...     0\n",
              "..           ...  ...   ...\n",
              "245           39  ...     1\n",
              "246           43  ...     1\n",
              "247           44  ...     1\n",
              "248           45  ...     1\n",
              "249           46  ...     1\n",
              "\n",
              "[250 rows x 4 columns]"
            ]
          },
          "metadata": {},
          "execution_count": 3
        }
      ]
    },
    {
      "cell_type": "code",
      "source": [
        "print(df.columns.values)\n",
        "print(df.dtypes)\n",
        "df = shuffle(df)\n",
        "\n",
        "\n",
        "df.drop(df[df['class'] == 2].index, inplace = True)\n",
        "\n",
        "test_df = df"
      ],
      "metadata": {
        "colab": {
          "base_uri": "https://localhost:8080/"
        },
        "id": "FhV9SL8kpwFU",
        "outputId": "4794167e-4893-4d19-961d-d99464c248f0"
      },
      "execution_count": null,
      "outputs": [
        {
          "output_type": "stream",
          "name": "stdout",
          "text": [
            "['id' 'tweet' 'text_processed' 'class']\n",
            "id                object\n",
            "tweet             object\n",
            "text_processed    object\n",
            "class              int64\n",
            "dtype: object\n"
          ]
        }
      ]
    },
    {
      "cell_type": "code",
      "source": [
        "df =df.dropna()\n",
        "df = df.drop_duplicates()\n",
        "df.count()"
      ],
      "metadata": {
        "colab": {
          "base_uri": "https://localhost:8080/"
        },
        "id": "Hl3CL1B_7NJ4",
        "outputId": "f560afc2-cf4b-4173-991e-b405d97180fa"
      },
      "execution_count": null,
      "outputs": [
        {
          "output_type": "execute_result",
          "data": {
            "text/plain": [
              "id                305\n",
              "tweet             305\n",
              "text_processed    305\n",
              "class             305\n",
              "dtype: int64"
            ]
          },
          "metadata": {},
          "execution_count": 5
        }
      ]
    },
    {
      "cell_type": "code",
      "source": [
        "def seq_len(text):\n",
        "    return len(text.split(' '))\n",
        "\n",
        "df['len'] = df.text_processed.apply(lambda x: seq_len(x))\n",
        "df.head()"
      ],
      "metadata": {
        "colab": {
          "base_uri": "https://localhost:8080/",
          "height": 206
        },
        "id": "dbyga7op1VRJ",
        "outputId": "f74b0fd7-ffd9-4ba7-ccab-8e4d5049ba3e"
      },
      "execution_count": null,
      "outputs": [
        {
          "output_type": "execute_result",
          "data": {
            "text/html": [
              "\n",
              "  <div id=\"df-32ec037e-ce26-4813-876f-40879b865a25\">\n",
              "    <div class=\"colab-df-container\">\n",
              "      <div>\n",
              "<style scoped>\n",
              "    .dataframe tbody tr th:only-of-type {\n",
              "        vertical-align: middle;\n",
              "    }\n",
              "\n",
              "    .dataframe tbody tr th {\n",
              "        vertical-align: top;\n",
              "    }\n",
              "\n",
              "    .dataframe thead th {\n",
              "        text-align: right;\n",
              "    }\n",
              "</style>\n",
              "<table border=\"1\" class=\"dataframe\">\n",
              "  <thead>\n",
              "    <tr style=\"text-align: right;\">\n",
              "      <th></th>\n",
              "      <th>id</th>\n",
              "      <th>tweet</th>\n",
              "      <th>text_processed</th>\n",
              "      <th>class</th>\n",
              "      <th>len</th>\n",
              "    </tr>\n",
              "  </thead>\n",
              "  <tbody>\n",
              "    <tr>\n",
              "      <th>327</th>\n",
              "      <td>122</td>\n",
              "      <td>A la mujer buscala delgada y limpia que gorda ...</td>\n",
              "      <td>sheila tarado mierdo okala mate trola mierdo s...</td>\n",
              "      <td>1</td>\n",
              "      <td>25</td>\n",
              "    </tr>\n",
              "    <tr>\n",
              "      <th>261</th>\n",
              "      <td>88</td>\n",
              "      <td>A la mujer buscala delgada y limpia que gorda ...</td>\n",
              "      <td>callate perra arrepentido</td>\n",
              "      <td>1</td>\n",
              "      <td>3</td>\n",
              "    </tr>\n",
              "    <tr>\n",
              "      <th>58</th>\n",
              "      <td>1,48236E+18</td>\n",
              "      <td>Quien Florencia En hombre un cambio de DNI ...</td>\n",
              "      <td>florencia hombre cambio dni convertir mujer se...</td>\n",
              "      <td>1</td>\n",
              "      <td>22</td>\n",
              "    </tr>\n",
              "    <tr>\n",
              "      <th>396</th>\n",
              "      <td>14521535</td>\n",
              "      <td>\"\"\"RT : Ahora vivo mi vida acostada en la aren...</td>\n",
              "      <td>yoyo bailo money hora sentir yo empoderado</td>\n",
              "      <td>0</td>\n",
              "      <td>7</td>\n",
              "    </tr>\n",
              "    <tr>\n",
              "      <th>378</th>\n",
              "      <td>122</td>\n",
              "      <td>A la mujer buscala delgada y limpia que gorda ...</td>\n",
              "      <td>t imagina ser tanto nadie lado hermano solo go...</td>\n",
              "      <td>1</td>\n",
              "      <td>10</td>\n",
              "    </tr>\n",
              "  </tbody>\n",
              "</table>\n",
              "</div>\n",
              "      <button class=\"colab-df-convert\" onclick=\"convertToInteractive('df-32ec037e-ce26-4813-876f-40879b865a25')\"\n",
              "              title=\"Convert this dataframe to an interactive table.\"\n",
              "              style=\"display:none;\">\n",
              "        \n",
              "  <svg xmlns=\"http://www.w3.org/2000/svg\" height=\"24px\"viewBox=\"0 0 24 24\"\n",
              "       width=\"24px\">\n",
              "    <path d=\"M0 0h24v24H0V0z\" fill=\"none\"/>\n",
              "    <path d=\"M18.56 5.44l.94 2.06.94-2.06 2.06-.94-2.06-.94-.94-2.06-.94 2.06-2.06.94zm-11 1L8.5 8.5l.94-2.06 2.06-.94-2.06-.94L8.5 2.5l-.94 2.06-2.06.94zm10 10l.94 2.06.94-2.06 2.06-.94-2.06-.94-.94-2.06-.94 2.06-2.06.94z\"/><path d=\"M17.41 7.96l-1.37-1.37c-.4-.4-.92-.59-1.43-.59-.52 0-1.04.2-1.43.59L10.3 9.45l-7.72 7.72c-.78.78-.78 2.05 0 2.83L4 21.41c.39.39.9.59 1.41.59.51 0 1.02-.2 1.41-.59l7.78-7.78 2.81-2.81c.8-.78.8-2.07 0-2.86zM5.41 20L4 18.59l7.72-7.72 1.47 1.35L5.41 20z\"/>\n",
              "  </svg>\n",
              "      </button>\n",
              "      \n",
              "  <style>\n",
              "    .colab-df-container {\n",
              "      display:flex;\n",
              "      flex-wrap:wrap;\n",
              "      gap: 12px;\n",
              "    }\n",
              "\n",
              "    .colab-df-convert {\n",
              "      background-color: #E8F0FE;\n",
              "      border: none;\n",
              "      border-radius: 50%;\n",
              "      cursor: pointer;\n",
              "      display: none;\n",
              "      fill: #1967D2;\n",
              "      height: 32px;\n",
              "      padding: 0 0 0 0;\n",
              "      width: 32px;\n",
              "    }\n",
              "\n",
              "    .colab-df-convert:hover {\n",
              "      background-color: #E2EBFA;\n",
              "      box-shadow: 0px 1px 2px rgba(60, 64, 67, 0.3), 0px 1px 3px 1px rgba(60, 64, 67, 0.15);\n",
              "      fill: #174EA6;\n",
              "    }\n",
              "\n",
              "    [theme=dark] .colab-df-convert {\n",
              "      background-color: #3B4455;\n",
              "      fill: #D2E3FC;\n",
              "    }\n",
              "\n",
              "    [theme=dark] .colab-df-convert:hover {\n",
              "      background-color: #434B5C;\n",
              "      box-shadow: 0px 1px 3px 1px rgba(0, 0, 0, 0.15);\n",
              "      filter: drop-shadow(0px 1px 2px rgba(0, 0, 0, 0.3));\n",
              "      fill: #FFFFFF;\n",
              "    }\n",
              "  </style>\n",
              "\n",
              "      <script>\n",
              "        const buttonEl =\n",
              "          document.querySelector('#df-32ec037e-ce26-4813-876f-40879b865a25 button.colab-df-convert');\n",
              "        buttonEl.style.display =\n",
              "          google.colab.kernel.accessAllowed ? 'block' : 'none';\n",
              "\n",
              "        async function convertToInteractive(key) {\n",
              "          const element = document.querySelector('#df-32ec037e-ce26-4813-876f-40879b865a25');\n",
              "          const dataTable =\n",
              "            await google.colab.kernel.invokeFunction('convertToInteractive',\n",
              "                                                     [key], {});\n",
              "          if (!dataTable) return;\n",
              "\n",
              "          const docLinkHtml = 'Like what you see? Visit the ' +\n",
              "            '<a target=\"_blank\" href=https://colab.research.google.com/notebooks/data_table.ipynb>data table notebook</a>'\n",
              "            + ' to learn more about interactive tables.';\n",
              "          element.innerHTML = '';\n",
              "          dataTable['output_type'] = 'display_data';\n",
              "          await google.colab.output.renderOutput(dataTable, element);\n",
              "          const docLink = document.createElement('div');\n",
              "          docLink.innerHTML = docLinkHtml;\n",
              "          element.appendChild(docLink);\n",
              "        }\n",
              "      </script>\n",
              "    </div>\n",
              "  </div>\n",
              "  "
            ],
            "text/plain": [
              "              id                                              tweet  ... class  len\n",
              "327          122  A la mujer buscala delgada y limpia que gorda ...  ...     1   25\n",
              "261           88  A la mujer buscala delgada y limpia que gorda ...  ...     1    3\n",
              "58   1,48236E+18     Quien Florencia En hombre un cambio de DNI ...  ...     1   22\n",
              "396     14521535  \"\"\"RT : Ahora vivo mi vida acostada en la aren...  ...     0    7\n",
              "378          122  A la mujer buscala delgada y limpia que gorda ...  ...     1   10\n",
              "\n",
              "[5 rows x 5 columns]"
            ]
          },
          "metadata": {},
          "execution_count": 6
        }
      ]
    },
    {
      "cell_type": "code",
      "source": [
        "print('Maximum sequence length is', df.len.max())\n",
        "print('Minimum sequence length is', df.len.min())\n",
        "print('Average sequence length is', df.len.mean())"
      ],
      "metadata": {
        "colab": {
          "base_uri": "https://localhost:8080/"
        },
        "id": "vvbG8Xm41sqO",
        "outputId": "72ff993d-d88f-47be-f4a6-66e65c286203"
      },
      "execution_count": null,
      "outputs": [
        {
          "output_type": "stream",
          "name": "stdout",
          "text": [
            "Maximum sequence length is 34\n",
            "Minimum sequence length is 1\n",
            "Average sequence length is 9.531147540983607\n"
          ]
        }
      ]
    },
    {
      "cell_type": "code",
      "source": [
        "from sklearn.model_selection import train_test_split\n",
        "X = np.array(df['text_processed'])\n",
        "y = np.array(df['class'])\n",
        "X_train, X_test, y_train, y_test = train_test_split(X, y, test_size=0.2, random_state=327)\n",
        "\n",
        "print('Train set contains {} entries'.format(len(X_train)))\n",
        "print(\"Test set contains {} entries\".format(len(y_test)))\n"
      ],
      "metadata": {
        "colab": {
          "base_uri": "https://localhost:8080/"
        },
        "id": "0oCEZurO3TYE",
        "outputId": "0eb48551-64fb-46eb-8094-1e33a5f5068d"
      },
      "execution_count": null,
      "outputs": [
        {
          "output_type": "stream",
          "name": "stdout",
          "text": [
            "Train set contains 244 entries\n",
            "Test set contains 61 entries\n"
          ]
        }
      ]
    },
    {
      "cell_type": "code",
      "source": [
        "import matplotlib.pyplot as plt\n",
        "import matplotlib.gridspec as grd\n",
        "import seaborn as sns\n",
        "sns.set()\n",
        "\n",
        "sns.set_theme(style=\"darkgrid\")\n",
        "fig, (ax1, ax2) = plt.subplots(1, 2, figsize=(15, 5), sharey=True)\n",
        "fig.suptitle('Review per label distribution')\n",
        "ax1 = sns.countplot(x=y_train, ax=ax1)\n",
        "ax1.set_title('Train Set')\n",
        "ax2 = sns.countplot(x=y_test, ax=ax2)\n",
        "ax2.set_title('Test Set')\n",
        "plt.show()"
      ],
      "metadata": {
        "colab": {
          "base_uri": "https://localhost:8080/",
          "height": 358
        },
        "id": "QezcDFTr3quU",
        "outputId": "c92efa91-42a4-4599-e1af-bb65b49ec1f5"
      },
      "execution_count": null,
      "outputs": [
        {
          "output_type": "display_data",
          "data": {
            "image/png": "[encoded data removed]",
            "text/plain": [
              "<Figure size 1080x360 with 2 Axes>"
            ]
          },
          "metadata": {}
        }
      ]
    },
    {
      "cell_type": "code",
      "source": [
        "import nltk\n",
        "import re\n",
        "from sklearn.metrics import classification_report, accuracy_score\n",
        "import tensorflow as tf\n",
        "from tensorflow.keras import Sequential, layers, preprocessing\n",
        "import warnings\n",
        "warnings.filterwarnings('ignore')"
      ],
      "metadata": {
        "id": "nTI_i5Tg53tu"
      },
      "execution_count": null,
      "outputs": []
    },
    {
      "cell_type": "code",
      "source": [
        "num_words = 10000 # the numer of words to tokenize \n",
        "max_seq = 50 # maximum sequence size\n",
        "\n",
        "\n",
        "# fit the tokenizer on trainig texts\n",
        "tokenizer = preprocessing.text.Tokenizer(num_words=num_words)\n",
        "tokenizer.fit_on_texts(X_train)\n",
        "\n",
        "# Dictionary of words ordered in terms of their frequency \n",
        "word_index = tokenizer.word_index\n",
        "vocab_size = len(word_index) + 1\n",
        "\n",
        "print(f\" {vocab_size-1} unique tokens found\")\n",
        "print(list(word_index)[:10])"
      ],
      "metadata": {
        "colab": {
          "base_uri": "https://localhost:8080/"
        },
        "id": "MaTBc3Sl332J",
        "outputId": "a7f1da71-0c37-4ffa-96e5-fc29bd4d38fa"
      },
      "execution_count": null,
      "outputs": [
        {
          "output_type": "stream",
          "name": "stdout",
          "text": [
            " 1242 unique tokens found\n",
            "['mujer', 'gordo', 'mierda', 'decir', 'perra', 'mierdo', 'q', 'hacer', 'ser', 'puto']\n"
          ]
        }
      ]
    },
    {
      "cell_type": "code",
      "source": [
        "print(\"Original phrase:\\n\", X_train[0])\n",
        "print()\n",
        "\n",
        "# Turn the phrases into their numerical equivalents \n",
        "X_train_seq = tokenizer.texts_to_sequences(X_train)\n",
        "X_test_seq = tokenizer.texts_to_sequences(X_test)\n",
        "print('Phrase as sequence:', X_train_seq[1])\n",
        "print()\n",
        "\n",
        "# Padding of our sequences \n",
        "X_train_processed = preprocessing.sequence.pad_sequences(X_train_seq, padding='post', maxlen=max_seq)\n",
        "X_test_processed = preprocessing.sequence.pad_sequences(X_test_seq, padding='post', maxlen=max_seq)\n",
        "print('Padded sequence:', X_train_processed[0])"
      ],
      "metadata": {
        "colab": {
          "base_uri": "https://localhost:8080/"
        },
        "id": "rZ6_kHmn6Rb3",
        "outputId": "9ae16abb-4748-4db1-8c13-f62dad3ab3e1"
      },
      "execution_count": null,
      "outputs": [
        {
          "output_type": "stream",
          "name": "stdout",
          "text": [
            "Original phrase:\n",
            " colombiir todo mujer bonito hombre maluco pesar mujer colombiano sper difcil conseguir pareja comparado hombre misterioso camino seor fuente eclesiasts\n",
            "\n",
            "Phrase as sequence: [316, 17, 317, 1, 318, 319, 320, 148, 321]\n",
            "\n",
            "Padded sequence: [303 145   1 146  30 304 305   1 306 307 308 309 147 310  30 311 312 313\n",
            " 314 315   0   0   0   0   0   0   0   0   0   0   0   0   0   0   0   0\n",
            "   0   0   0   0   0   0   0   0   0   0   0   0   0   0]\n"
          ]
        }
      ]
    },
    {
      "cell_type": "markdown",
      "source": [
        "**Carga de embeddings**"
      ],
      "metadata": {
        "id": "QXTaDxcyBBfu"
      }
    },
    {
      "cell_type": "code",
      "source": [
        "embedding_index = {}\n",
        "with open(\"/content/drive/MyDrive/Colab Notebooks/DS/training/SBW-vectors.txt\") as f:\n",
        "  for line in f:\n",
        "    word, coef = line.split(maxsplit=1)\n",
        "    coef = np.fromstring(coef, 'f', sep=' ')\n",
        "    embedding_index[word] = coef \n",
        "print('{} embeddings found'.format(len(embedding_index)))"
      ],
      "metadata": {
        "colab": {
          "base_uri": "https://localhost:8080/"
        },
        "id": "H7zsSB2k6iQR",
        "outputId": "ef0519b1-404d-4db8-f3d2-386a09097555"
      },
      "execution_count": null,
      "outputs": [
        {
          "output_type": "stream",
          "name": "stdout",
          "text": [
            "1000654 embeddings found\n"
          ]
        }
      ]
    },
    {
      "cell_type": "code",
      "source": [
        "embedding_dim = 300\n",
        "hits = 0 \n",
        "misses = 0\n",
        "\n",
        "embedding_matrix = np.zeros((vocab_size, embedding_dim))\n",
        "for w, i in word_index.items():\n",
        "  embedding_vector = embedding_index.get(word)\n",
        "  if embedding_vector is not None:\n",
        "    hits+=1\n",
        "    embedding_matrix[i] = embedding_vector\n",
        "  else:\n",
        "    misses += 1\n",
        "\n",
        "print('{} words encoded with an embedding from SBW-vectors'.format(hits))\n",
        "print('{} word embeddings not found'.format(misses))"
      ],
      "metadata": {
        "colab": {
          "base_uri": "https://localhost:8080/"
        },
        "id": "A3ulbdxy7YUZ",
        "outputId": "62d98238-bb30-40a1-e7c7-4cab32f0d87a"
      },
      "execution_count": null,
      "outputs": [
        {
          "output_type": "stream",
          "name": "stdout",
          "text": [
            "1242 words encoded with an embedding from SBW-vectors\n",
            "0 word embeddings not found\n"
          ]
        }
      ]
    },
    {
      "cell_type": "markdown",
      "source": [
        "**Modelo Clasificador** \n",
        "\n",
        "---\n",
        "\n"
      ],
      "metadata": {
        "id": "GCJ6rq9iBF7n"
      }
    },
    {
      "cell_type": "code",
      "source": [
        "model = Sequential()\n",
        "\n",
        "model.add(\n",
        "    layers.Embedding(input_dim=vocab_size,\n",
        "                     embeddings_initializer=tf.keras.initializers.Constant(embedding_matrix),\n",
        "                     mask_zero=True,\n",
        "                     output_dim=embedding_dim, # dimension of dense embedding. \n",
        "                     input_length=max_seq)\n",
        ")\n",
        "\n",
        "# LSTM layer\n",
        "model.add(layers.LSTM(128))\n",
        "# Dense output layer\n",
        "\n",
        "model.add(layers.Dense(units=1, activation='sigmoid'))\n",
        "\n",
        "\n",
        "model.compile(loss='binary_crossentropy',optimizer='adam',metrics=['accuracy'])\n",
        "model.summary()"
      ],
      "metadata": {
        "colab": {
          "base_uri": "https://localhost:8080/"
        },
        "id": "PTHiAOAM7fVe",
        "outputId": "13415e96-5cf5-46e9-df68-57422040445e"
      },
      "execution_count": null,
      "outputs": [
        {
          "output_type": "stream",
          "name": "stdout",
          "text": [
            "Model: \"sequential\"\n",
            "_________________________________________________________________\n",
            " Layer (type)                Output Shape              Param #   \n",
            "=================================================================\n",
            " embedding (Embedding)       (None, 50, 300)           372900    \n",
            "                                                                 \n",
            " lstm (LSTM)                 (None, 128)               219648    \n",
            "                                                                 \n",
            " dense (Dense)               (None, 1)                 129       \n",
            "                                                                 \n",
            "=================================================================\n",
            "Total params: 592,677\n",
            "Trainable params: 592,677\n",
            "Non-trainable params: 0\n",
            "_________________________________________________________________\n"
          ]
        }
      ]
    },
    {
      "cell_type": "code",
      "source": [
        " history = model.fit(x=X_train_processed, y=y_train, epochs=7, batch_size=32, validation_data=(X_test_processed, y_test))\n",
        " "
      ],
      "metadata": {
        "colab": {
          "base_uri": "https://localhost:8080/"
        },
        "id": "122dktSt9n7k",
        "outputId": "5a172a3a-a575-4785-81d6-12df904acb5f"
      },
      "execution_count": null,
      "outputs": [
        {
          "output_type": "stream",
          "name": "stdout",
          "text": [
            "Epoch 1/7\n",
            "8/8 [==============================] - 9s 212ms/step - loss: 0.6403 - accuracy: 0.6598 - val_loss: 0.5566 - val_accuracy: 0.7541\n",
            "Epoch 2/7\n",
            "8/8 [==============================] - 0s 13ms/step - loss: 0.6045 - accuracy: 0.6598 - val_loss: 0.5260 - val_accuracy: 0.7541\n",
            "Epoch 3/7\n",
            "8/8 [==============================] - 0s 14ms/step - loss: 0.5322 - accuracy: 0.7049 - val_loss: 0.4436 - val_accuracy: 0.7541\n",
            "Epoch 4/7\n",
            "8/8 [==============================] - 0s 14ms/step - loss: 0.3071 - accuracy: 0.8033 - val_loss: 0.3289 - val_accuracy: 0.8689\n",
            "Epoch 5/7\n",
            "8/8 [==============================] - 0s 13ms/step - loss: 0.1756 - accuracy: 0.9754 - val_loss: 0.4032 - val_accuracy: 0.8361\n",
            "Epoch 6/7\n",
            "8/8 [==============================] - 0s 13ms/step - loss: 0.1463 - accuracy: 0.9631 - val_loss: 0.3745 - val_accuracy: 0.8197\n",
            "Epoch 7/7\n",
            "8/8 [==============================] - 0s 13ms/step - loss: 0.0612 - accuracy: 0.9959 - val_loss: 0.2822 - val_accuracy: 0.8689\n"
          ]
        }
      ]
    },
    {
      "cell_type": "code",
      "source": [
        "plt.plot(history.history['loss'])\n",
        "plt.plot(history.history['val_loss'])\n",
        "plt.title('model loss')\n",
        "plt.ylabel('loss')\n",
        "plt.xlabel('epoch')\n",
        "plt.show()\n",
        "\n",
        "# Accuracy plot\n",
        "plt.plot(history.history['accuracy'])\n",
        "plt.plot(history.history['val_accuracy'])\n",
        "plt.title('model accuracy')\n",
        "plt.ylabel('accuracy')\n",
        "plt.xlabel('epoch')\n",
        "plt.show()\n",
        "\n"
      ],
      "metadata": {
        "colab": {
          "base_uri": "https://localhost:8080/",
          "height": 585
        },
        "id": "kuwEiiHgFelX",
        "outputId": "c7884f36-fc56-47cf-8b85-5f5f3c491fe3"
      },
      "execution_count": null,
      "outputs": [
        {
          "output_type": "display_data",
          "data": {
            "image/png": "[encoded data removed]",
            "text/plain": [
              "<Figure size 432x288 with 1 Axes>"
            ]
          },
          "metadata": {}
        },
        {
          "output_type": "display_data",
          "data": {
            "image/png": "[encoded data removed]",
            "text/plain": [
              "<Figure size 432x288 with 1 Axes>"
            ]
          },
          "metadata": {}
        }
      ]
    },
    {
      "cell_type": "code",
      "source": [
        "results = model.evaluate(X_test_processed, y_test, batch_size=32)\n",
        "print(\"test loss, test acc:\", results)"
      ],
      "metadata": {
        "colab": {
          "base_uri": "https://localhost:8080/"
        },
        "id": "DQdzXjmIt6f4",
        "outputId": "03478380-17ea-4645-8e5c-90c30b716dc2"
      },
      "execution_count": null,
      "outputs": [
        {
          "output_type": "stream",
          "name": "stdout",
          "text": [
            "2/2 [==============================] - 0s 16ms/step - loss: 0.2822 - accuracy: 0.8689\n",
            "test loss, test acc: [0.2821568250656128, 0.868852436542511]\n"
          ]
        }
      ]
    },
    {
      "cell_type": "code",
      "source": [
        "y_pred = model.predict(x=X_test_processed, batch_size=32)\n",
        "y_pred = [0 if y < 0.5 else 1 for y in y_pred]\n",
        "\n",
        "print(classification_report(y_test, y_pred))\n",
        "print('Accuracy:', accuracy_score(y_test, y_pred))"
      ],
      "metadata": {
        "colab": {
          "base_uri": "https://localhost:8080/"
        },
        "id": "XLJdv87hFjh2",
        "outputId": "e8e4a981-d083-4179-a4e0-ce49110e37eb"
      },
      "execution_count": null,
      "outputs": [
        {
          "output_type": "stream",
          "name": "stdout",
          "text": [
            "              precision    recall  f1-score   support\n",
            "\n",
            "           0       0.65      1.00      0.79        15\n",
            "           1       1.00      0.83      0.90        46\n",
            "\n",
            "    accuracy                           0.87        61\n",
            "   macro avg       0.83      0.91      0.85        61\n",
            "weighted avg       0.91      0.87      0.88        61\n",
            "\n",
            "Accuracy: 0.8688524590163934\n"
          ]
        }
      ]
    },
    {
      "cell_type": "code",
      "source": [
        "from sklearn.metrics import confusion_matrix\n",
        "cm = confusion_matrix(y_test, y_pred, normalize='true')\n",
        "sns.heatmap(cm, annot=True, cmap=\"YlGnBu\")\n",
        "plt.ylabel('Actual')\n",
        "plt.xlabel('Predicted')\n",
        "plt.title('Confusion matrix')\n",
        "plt.show()"
      ],
      "metadata": {
        "colab": {
          "base_uri": "https://localhost:8080/",
          "height": 301
        },
        "id": "sx17y0aGF0ld",
        "outputId": "678e9996-baba-4cd2-c309-70fb0a390cbf"
      },
      "execution_count": null,
      "outputs": [
        {
          "output_type": "display_data",
          "data": {
            "image/png": "[encoded data removed]",
            "text/plain": [
              "<Figure size 432x288 with 2 Axes>"
            ]
          },
          "metadata": {}
        }
      ]
    },
    {
      "cell_type": "markdown",
      "source": [
        "**Clasificación de un .csv** \n",
        "\n",
        "---\n",
        "\n"
      ],
      "metadata": {
        "id": "-A38pbsCBWsq"
      }
    },
    {
      "cell_type": "code",
      "source": [
        "lista = [1]\n",
        "for j in lista:\n",
        "  val = test_df\n",
        "  X_val = val[\"text_processed\"].fillna(\"fillna\").values\n",
        " #X_val = \"mujer empoderado\"\n",
        "  tokenizer = preprocessing.text.Tokenizer(num_words=max_seq)\n",
        "  tokenizer.fit_on_texts(X_val)\n",
        "  X_val = tokenizer.texts_to_sequences(X_val)\n",
        "  x_val1 = preprocessing.sequence.pad_sequences(X_val, padding='post', maxlen=max_seq)\n",
        "  \n",
        "  data_d = []\n",
        "  for i in range(len(x_val1)):\n",
        "    single_test = x_val1[i:i+1]\n",
        "    label = str(val[\"text_processed\"][i:i+1].values)\n",
        "    real = str(val[\"class\"][i:i+1].values)\n",
        "    #print(label) \n",
        "    pred1= model.predict(single_test)\n",
        "    class_1  = \"\"\n",
        "    #print(pred1)\n",
        "    if pred1 <= 0.55:\n",
        "        #print(f\"Clasificacion: no violenta\")\n",
        "      class_1 = 0\n",
        "    else:\n",
        "        # print(f\"Clasificacion: violenta\")\n",
        "      class_1=1\n",
        "  \n",
        "    #print(class_1)\n",
        "\n",
        "    data_d.append([label,real,class_1,pred1])\n",
        "    \n",
        "  df = pd.DataFrame(data_d, columns=['tweet','class' ,'model','score'])\n",
        "  df = df[df.tweet != '']\n",
        "  df.head(60)\n",
        "      "
      ],
      "metadata": {
        "id": "nQ_OBZ-pF6yN"
      },
      "execution_count": null,
      "outputs": []
    },
    {
      "cell_type": "code",
      "source": [
        "  dir = '/content/drive/MyDrive/Colab Notebooks/DS/training/dataset_modelo.csv'\n",
        "  df.to_csv(dir, index=False, header=True, encoding=\"utf-8\")\n",
        "  df.head(20)"
      ],
      "metadata": {
        "colab": {
          "base_uri": "https://localhost:8080/",
          "height": 677
        },
        "id": "jYkikWyksE6q",
        "outputId": "d2a51edd-2d5f-4ac3-cc71-5f5dbcf2c66f"
      },
      "execution_count": null,
      "outputs": [
        {
          "output_type": "execute_result",
          "data": {
            "text/html": [
              "\n",
              "  <div id=\"df-2de8cc15-c248-4e62-963f-8a97bb0019c1\">\n",
              "    <div class=\"colab-df-container\">\n",
              "      <div>\n",
              "<style scoped>\n",
              "    .dataframe tbody tr th:only-of-type {\n",
              "        vertical-align: middle;\n",
              "    }\n",
              "\n",
              "    .dataframe tbody tr th {\n",
              "        vertical-align: top;\n",
              "    }\n",
              "\n",
              "    .dataframe thead th {\n",
              "        text-align: right;\n",
              "    }\n",
              "</style>\n",
              "<table border=\"1\" class=\"dataframe\">\n",
              "  <thead>\n",
              "    <tr style=\"text-align: right;\">\n",
              "      <th></th>\n",
              "      <th>tweet</th>\n",
              "      <th>class</th>\n",
              "      <th>model</th>\n",
              "      <th>score</th>\n",
              "    </tr>\n",
              "  </thead>\n",
              "  <tbody>\n",
              "    <tr>\n",
              "      <th>0</th>\n",
              "      <td>['mujer tanto bello interesante']</td>\n",
              "      <td>[0]</td>\n",
              "      <td>0</td>\n",
              "      <td>[[0.1682575]]</td>\n",
              "    </tr>\n",
              "    <tr>\n",
              "      <th>1</th>\n",
              "      <td>['esque puto cllate piens m']</td>\n",
              "      <td>[1]</td>\n",
              "      <td>1</td>\n",
              "      <td>[[0.95750886]]</td>\n",
              "    </tr>\n",
              "    <tr>\n",
              "      <th>2</th>\n",
              "      <td>['callate zorra mama duro']</td>\n",
              "      <td>[1]</td>\n",
              "      <td>1</td>\n",
              "      <td>[[0.9244954]]</td>\n",
              "    </tr>\n",
              "    <tr>\n",
              "      <th>3</th>\n",
              "      <td>['q avez explicate gordo d mierdo']</td>\n",
              "      <td>[1]</td>\n",
              "      <td>1</td>\n",
              "      <td>[[0.9780629]]</td>\n",
              "    </tr>\n",
              "    <tr>\n",
              "      <th>4</th>\n",
              "      <td>['amar prima contadorar ta solucionar bido muj...</td>\n",
              "      <td>[0]</td>\n",
              "      <td>0</td>\n",
              "      <td>[[0.2935279]]</td>\n",
              "    </tr>\n",
              "    <tr>\n",
              "      <th>5</th>\n",
              "      <td>['cada vez q acuerdo gordo decir digooo tiento...</td>\n",
              "      <td>[1]</td>\n",
              "      <td>1</td>\n",
              "      <td>[[0.9956032]]</td>\n",
              "    </tr>\n",
              "    <tr>\n",
              "      <th>6</th>\n",
              "      <td>['dios gordo mierda']</td>\n",
              "      <td>[1]</td>\n",
              "      <td>1</td>\n",
              "      <td>[[0.9714514]]</td>\n",
              "    </tr>\n",
              "    <tr>\n",
              "      <th>7</th>\n",
              "      <td>['borralo gordo mierda']</td>\n",
              "      <td>[1]</td>\n",
              "      <td>1</td>\n",
              "      <td>[[0.9714514]]</td>\n",
              "    </tr>\n",
              "    <tr>\n",
              "      <th>8</th>\n",
              "      <td>['di tú mio orgullo felicitación padre desear ...</td>\n",
              "      <td>[0]</td>\n",
              "      <td>0</td>\n",
              "      <td>[[0.29282355]]</td>\n",
              "    </tr>\n",
              "    <tr>\n",
              "      <th>9</th>\n",
              "      <td>['cerdar envidiós pas mal puto vida merez agua...</td>\n",
              "      <td>[1]</td>\n",
              "      <td>1</td>\n",
              "      <td>[[0.8211418]]</td>\n",
              "    </tr>\n",
              "    <tr>\n",
              "      <th>10</th>\n",
              "      <td>['llamar feminazi veganazi resentido social ma...</td>\n",
              "      <td>[1]</td>\n",
              "      <td>0</td>\n",
              "      <td>[[0.2718315]]</td>\n",
              "    </tr>\n",
              "    <tr>\n",
              "      <th>11</th>\n",
              "      <td>['ciruján darkz super cool diós empoderado fel...</td>\n",
              "      <td>[0]</td>\n",
              "      <td>1</td>\n",
              "      <td>[[0.6502984]]</td>\n",
              "    </tr>\n",
              "    <tr>\n",
              "      <th>12</th>\n",
              "      <td>['felicitación abrazo enorme fuerza']</td>\n",
              "      <td>[0]</td>\n",
              "      <td>0</td>\n",
              "      <td>[[0.29282355]]</td>\n",
              "    </tr>\n",
              "    <tr>\n",
              "      <th>13</th>\n",
              "      <td>['dudo playa lleno materia fecalya autoridad p...</td>\n",
              "      <td>[1]</td>\n",
              "      <td>1</td>\n",
              "      <td>[[0.9991047]]</td>\n",
              "    </tr>\n",
              "    <tr>\n",
              "      <th>14</th>\n",
              "      <td>['callate ir bloquear hijo puta']</td>\n",
              "      <td>[1]</td>\n",
              "      <td>1</td>\n",
              "      <td>[[0.96698916]]</td>\n",
              "    </tr>\n",
              "    <tr>\n",
              "      <th>15</th>\n",
              "      <td>['feliz cumpleaos increble mujer amooooooooooo...</td>\n",
              "      <td>[0]</td>\n",
              "      <td>0</td>\n",
              "      <td>[[0.31251296]]</td>\n",
              "    </tr>\n",
              "    <tr>\n",
              "      <th>16</th>\n",
              "      <td>['poder ser tanto estpidacomo hacer cagar conv...</td>\n",
              "      <td>[1]</td>\n",
              "      <td>1</td>\n",
              "      <td>[[0.9592392]]</td>\n",
              "    </tr>\n",
              "    <tr>\n",
              "      <th>17</th>\n",
              "      <td>['qu feir ser feminazi tiempo guerrar atacar h...</td>\n",
              "      <td>[1]</td>\n",
              "      <td>1</td>\n",
              "      <td>[[0.9820727]]</td>\n",
              "    </tr>\n",
              "    <tr>\n",
              "      <th>18</th>\n",
              "      <td>['callate puto orto xq habla recalcado concha ...</td>\n",
              "      <td>[1]</td>\n",
              "      <td>1</td>\n",
              "      <td>[[0.98655105]]</td>\n",
              "    </tr>\n",
              "    <tr>\n",
              "      <th>19</th>\n",
              "      <td>['man sabado cumpleano permito comer ma do co ...</td>\n",
              "      <td>[1]</td>\n",
              "      <td>1</td>\n",
              "      <td>[[0.7831019]]</td>\n",
              "    </tr>\n",
              "  </tbody>\n",
              "</table>\n",
              "</div>\n",
              "      <button class=\"colab-df-convert\" onclick=\"convertToInteractive('df-2de8cc15-c248-4e62-963f-8a97bb0019c1')\"\n",
              "              title=\"Convert this dataframe to an interactive table.\"\n",
              "              style=\"display:none;\">\n",
              "        \n",
              "  <svg xmlns=\"http://www.w3.org/2000/svg\" height=\"24px\"viewBox=\"0 0 24 24\"\n",
              "       width=\"24px\">\n",
              "    <path d=\"M0 0h24v24H0V0z\" fill=\"none\"/>\n",
              "    <path d=\"M18.56 5.44l.94 2.06.94-2.06 2.06-.94-2.06-.94-.94-2.06-.94 2.06-2.06.94zm-11 1L8.5 8.5l.94-2.06 2.06-.94-2.06-.94L8.5 2.5l-.94 2.06-2.06.94zm10 10l.94 2.06.94-2.06 2.06-.94-2.06-.94-.94-2.06-.94 2.06-2.06.94z\"/><path d=\"M17.41 7.96l-1.37-1.37c-.4-.4-.92-.59-1.43-.59-.52 0-1.04.2-1.43.59L10.3 9.45l-7.72 7.72c-.78.78-.78 2.05 0 2.83L4 21.41c.39.39.9.59 1.41.59.51 0 1.02-.2 1.41-.59l7.78-7.78 2.81-2.81c.8-.78.8-2.07 0-2.86zM5.41 20L4 18.59l7.72-7.72 1.47 1.35L5.41 20z\"/>\n",
              "  </svg>\n",
              "      </button>\n",
              "      \n",
              "  <style>\n",
              "    .colab-df-container {\n",
              "      display:flex;\n",
              "      flex-wrap:wrap;\n",
              "      gap: 12px;\n",
              "    }\n",
              "\n",
              "    .colab-df-convert {\n",
              "      background-color: #E8F0FE;\n",
              "      border: none;\n",
              "      border-radius: 50%;\n",
              "      cursor: pointer;\n",
              "      display: none;\n",
              "      fill: #1967D2;\n",
              "      height: 32px;\n",
              "      padding: 0 0 0 0;\n",
              "      width: 32px;\n",
              "    }\n",
              "\n",
              "    .colab-df-convert:hover {\n",
              "      background-color: #E2EBFA;\n",
              "      box-shadow: 0px 1px 2px rgba(60, 64, 67, 0.3), 0px 1px 3px 1px rgba(60, 64, 67, 0.15);\n",
              "      fill: #174EA6;\n",
              "    }\n",
              "\n",
              "    [theme=dark] .colab-df-convert {\n",
              "      background-color: #3B4455;\n",
              "      fill: #D2E3FC;\n",
              "    }\n",
              "\n",
              "    [theme=dark] .colab-df-convert:hover {\n",
              "      background-color: #434B5C;\n",
              "      box-shadow: 0px 1px 3px 1px rgba(0, 0, 0, 0.15);\n",
              "      filter: drop-shadow(0px 1px 2px rgba(0, 0, 0, 0.3));\n",
              "      fill: #FFFFFF;\n",
              "    }\n",
              "  </style>\n",
              "\n",
              "      <script>\n",
              "        const buttonEl =\n",
              "          document.querySelector('#df-2de8cc15-c248-4e62-963f-8a97bb0019c1 button.colab-df-convert');\n",
              "        buttonEl.style.display =\n",
              "          google.colab.kernel.accessAllowed ? 'block' : 'none';\n",
              "\n",
              "        async function convertToInteractive(key) {\n",
              "          const element = document.querySelector('#df-2de8cc15-c248-4e62-963f-8a97bb0019c1');\n",
              "          const dataTable =\n",
              "            await google.colab.kernel.invokeFunction('convertToInteractive',\n",
              "                                                     [key], {});\n",
              "          if (!dataTable) return;\n",
              "\n",
              "          const docLinkHtml = 'Like what you see? Visit the ' +\n",
              "            '<a target=\"_blank\" href=https://colab.research.google.com/notebooks/data_table.ipynb>data table notebook</a>'\n",
              "            + ' to learn more about interactive tables.';\n",
              "          element.innerHTML = '';\n",
              "          dataTable['output_type'] = 'display_data';\n",
              "          await google.colab.output.renderOutput(dataTable, element);\n",
              "          const docLink = document.createElement('div');\n",
              "          docLink.innerHTML = docLinkHtml;\n",
              "          element.appendChild(docLink);\n",
              "        }\n",
              "      </script>\n",
              "    </div>\n",
              "  </div>\n",
              "  "
            ],
            "text/plain": [
              "                                                tweet  ...           score\n",
              "0                   ['mujer tanto bello interesante']  ...   [[0.1682575]]\n",
              "1                       ['esque puto cllate piens m']  ...  [[0.95750886]]\n",
              "2                         ['callate zorra mama duro']  ...   [[0.9244954]]\n",
              "3                 ['q avez explicate gordo d mierdo']  ...   [[0.9780629]]\n",
              "4   ['amar prima contadorar ta solucionar bido muj...  ...   [[0.2935279]]\n",
              "5   ['cada vez q acuerdo gordo decir digooo tiento...  ...   [[0.9956032]]\n",
              "6                               ['dios gordo mierda']  ...   [[0.9714514]]\n",
              "7                            ['borralo gordo mierda']  ...   [[0.9714514]]\n",
              "8   ['di tú mio orgullo felicitación padre desear ...  ...  [[0.29282355]]\n",
              "9   ['cerdar envidiós pas mal puto vida merez agua...  ...   [[0.8211418]]\n",
              "10  ['llamar feminazi veganazi resentido social ma...  ...   [[0.2718315]]\n",
              "11  ['ciruján darkz super cool diós empoderado fel...  ...   [[0.6502984]]\n",
              "12              ['felicitación abrazo enorme fuerza']  ...  [[0.29282355]]\n",
              "13  ['dudo playa lleno materia fecalya autoridad p...  ...   [[0.9991047]]\n",
              "14                  ['callate ir bloquear hijo puta']  ...  [[0.96698916]]\n",
              "15  ['feliz cumpleaos increble mujer amooooooooooo...  ...  [[0.31251296]]\n",
              "16  ['poder ser tanto estpidacomo hacer cagar conv...  ...   [[0.9592392]]\n",
              "17  ['qu feir ser feminazi tiempo guerrar atacar h...  ...   [[0.9820727]]\n",
              "18  ['callate puto orto xq habla recalcado concha ...  ...  [[0.98655105]]\n",
              "19  ['man sabado cumpleano permito comer ma do co ...  ...   [[0.7831019]]\n",
              "\n",
              "[20 rows x 4 columns]"
            ]
          },
          "metadata": {},
          "execution_count": 23
        }
      ]
    },
    {
      "cell_type": "code",
      "source": [
        "sns.set()\n",
        "df = pd.read_csv('/content/drive/MyDrive/Colab Notebooks/DS/training/dataset_modelo.csv')\n",
        "sns.set_theme(style=\"darkgrid\")\n",
        "fig, (ax1, ax2) = plt.subplots(1, 2, figsize=(15, 5), sharey=True)\n",
        "fig.suptitle('results')\n",
        "ax1 = sns.countplot(x=df['class'], ax=ax1)\n",
        "ax1.set_title('Train Set')\n",
        "ax2 = sns.countplot(x=df['model'], ax=ax2)\n",
        "ax2.set_title('Test Set')\n",
        "plt.show()"
      ],
      "metadata": {
        "colab": {
          "base_uri": "https://localhost:8080/",
          "height": 375
        },
        "id": "Da9LSLGKu1sL",
        "outputId": "958f55b2-e0ef-417a-a99d-8e2ebff66768"
      },
      "execution_count": null,
      "outputs": [
        {
          "output_type": "display_data",
          "data": {
            "image/png": "[encoded data removed]",
            "text/plain": [
              "<Figure size 1080x360 with 2 Axes>"
            ]
          },
          "metadata": {}
        }
      ]
    },
    {
      "cell_type": "markdown",
      "source": [
        "**Clasificación individual**\n",
        "\n",
        "---\n",
        "\n"
      ],
      "metadata": {
        "id": "-LjWlEzyBbxr"
      }
    },
    {
      "cell_type": "code",
      "source": [
        "import nltk\n",
        "nltk.download('popular')"
      ],
      "metadata": {
        "colab": {
          "base_uri": "https://localhost:8080/"
        },
        "id": "wgPVlfIEH29d",
        "outputId": "51b6dc85-d514-483a-8f75-8cc2d4876f44"
      },
      "execution_count": null,
      "outputs": [
        {
          "output_type": "stream",
          "name": "stdout",
          "text": [
            "[nltk_data] Downloading collection 'popular'\n",
            "[nltk_data]    | \n",
            "[nltk_data]    | Downloading package cmudict to /root/nltk_data...\n",
            "[nltk_data]    |   Unzipping corpora/cmudict.zip.\n",
            "[nltk_data]    | Downloading package gazetteers to /root/nltk_data...\n",
            "[nltk_data]    |   Unzipping corpora/gazetteers.zip.\n",
            "[nltk_data]    | Downloading package genesis to /root/nltk_data...\n",
            "[nltk_data]    |   Unzipping corpora/genesis.zip.\n",
            "[nltk_data]    | Downloading package gutenberg to /root/nltk_data...\n",
            "[nltk_data]    |   Unzipping corpora/gutenberg.zip.\n",
            "[nltk_data]    | Downloading package inaugural to /root/nltk_data...\n",
            "[nltk_data]    |   Unzipping corpora/inaugural.zip.\n",
            "[nltk_data]    | Downloading package movie_reviews to\n",
            "[nltk_data]    |     /root/nltk_data...\n",
            "[nltk_data]    |   Unzipping corpora/movie_reviews.zip.\n",
            "[nltk_data]    | Downloading package names to /root/nltk_data...\n",
            "[nltk_data]    |   Unzipping corpora/names.zip.\n",
            "[nltk_data]    | Downloading package shakespeare to /root/nltk_data...\n",
            "[nltk_data]    |   Unzipping corpora/shakespeare.zip.\n",
            "[nltk_data]    | Downloading package stopwords to /root/nltk_data...\n",
            "[nltk_data]    |   Unzipping corpora/stopwords.zip.\n",
            "[nltk_data]    | Downloading package treebank to /root/nltk_data...\n",
            "[nltk_data]    |   Unzipping corpora/treebank.zip.\n",
            "[nltk_data]    | Downloading package twitter_samples to\n",
            "[nltk_data]    |     /root/nltk_data...\n",
            "[nltk_data]    |   Unzipping corpora/twitter_samples.zip.\n",
            "[nltk_data]    | Downloading package omw to /root/nltk_data...\n",
            "[nltk_data]    |   Unzipping corpora/omw.zip.\n",
            "[nltk_data]    | Downloading package omw-1.4 to /root/nltk_data...\n",
            "[nltk_data]    |   Unzipping corpora/omw-1.4.zip.\n",
            "[nltk_data]    | Downloading package wordnet to /root/nltk_data...\n",
            "[nltk_data]    |   Unzipping corpora/wordnet.zip.\n",
            "[nltk_data]    | Downloading package wordnet2021 to /root/nltk_data...\n",
            "[nltk_data]    |   Unzipping corpora/wordnet2021.zip.\n",
            "[nltk_data]    | Downloading package wordnet31 to /root/nltk_data...\n",
            "[nltk_data]    |   Unzipping corpora/wordnet31.zip.\n",
            "[nltk_data]    | Downloading package wordnet_ic to /root/nltk_data...\n",
            "[nltk_data]    |   Unzipping corpora/wordnet_ic.zip.\n",
            "[nltk_data]    | Downloading package words to /root/nltk_data...\n",
            "[nltk_data]    |   Unzipping corpora/words.zip.\n",
            "[nltk_data]    | Downloading package maxent_ne_chunker to\n",
            "[nltk_data]    |     /root/nltk_data...\n",
            "[nltk_data]    |   Unzipping chunkers/maxent_ne_chunker.zip.\n",
            "[nltk_data]    | Downloading package punkt to /root/nltk_data...\n",
            "[nltk_data]    |   Unzipping tokenizers/punkt.zip.\n",
            "[nltk_data]    | Downloading package snowball_data to\n",
            "[nltk_data]    |     /root/nltk_data...\n",
            "[nltk_data]    | Downloading package averaged_perceptron_tagger to\n",
            "[nltk_data]    |     /root/nltk_data...\n",
            "[nltk_data]    |   Unzipping taggers/averaged_perceptron_tagger.zip.\n",
            "[nltk_data]    | \n",
            "[nltk_data]  Done downloading collection popular\n"
          ]
        },
        {
          "output_type": "execute_result",
          "data": {
            "text/plain": [
              "True"
            ]
          },
          "metadata": {},
          "execution_count": 24
        }
      ]
    },
    {
      "cell_type": "code",
      "source": [
        "!pip install deplacy\n",
        "!python -m spacy download es_core_news_sm\n",
        "!python -m spacy download es"
      ],
      "metadata": {
        "colab": {
          "base_uri": "https://localhost:8080/"
        },
        "id": "xzbNn9A8JGLH",
        "outputId": "35f9d22e-4e1c-41cb-a8b1-bb6a85deede5"
      },
      "execution_count": null,
      "outputs": [
        {
          "output_type": "stream",
          "name": "stdout",
          "text": [
            "Collecting deplacy\n",
            "  Downloading deplacy-2.0.2-py3-none-any.whl (22 kB)\n",
            "Installing collected packages: deplacy\n",
            "Successfully installed deplacy-2.0.2\n",
            "Collecting es_core_news_sm==2.2.5\n",
            "  Downloading https://github.com/explosion/spacy-models/releases/download/es_core_news_sm-2.2.5/es_core_news_sm-2.2.5.tar.gz (16.2 MB)\n",
            "\u001b[K     |████████████████████████████████| 16.2 MB 24.7 MB/s \n",
            "\u001b[?25hRequirement already satisfied: spacy>=2.2.2 in /usr/local/lib/python3.7/dist-packages (from es_core_news_sm==2.2.5) (2.2.4)\n",
            "Requirement already satisfied: thinc==7.4.0 in /usr/local/lib/python3.7/dist-packages (from spacy>=2.2.2->es_core_news_sm==2.2.5) (7.4.0)\n",
            "Requirement already satisfied: preshed<3.1.0,>=3.0.2 in /usr/local/lib/python3.7/dist-packages (from spacy>=2.2.2->es_core_news_sm==2.2.5) (3.0.6)\n",
            "Requirement already satisfied: srsly<1.1.0,>=1.0.2 in /usr/local/lib/python3.7/dist-packages (from spacy>=2.2.2->es_core_news_sm==2.2.5) (1.0.5)\n",
            "Requirement already satisfied: wasabi<1.1.0,>=0.4.0 in /usr/local/lib/python3.7/dist-packages (from spacy>=2.2.2->es_core_news_sm==2.2.5) (0.9.0)\n",
            "Requirement already satisfied: setuptools in /usr/local/lib/python3.7/dist-packages (from spacy>=2.2.2->es_core_news_sm==2.2.5) (57.4.0)\n",
            "Requirement already satisfied: plac<1.2.0,>=0.9.6 in /usr/local/lib/python3.7/dist-packages (from spacy>=2.2.2->es_core_news_sm==2.2.5) (1.1.3)\n",
            "Requirement already satisfied: catalogue<1.1.0,>=0.0.7 in /usr/local/lib/python3.7/dist-packages (from spacy>=2.2.2->es_core_news_sm==2.2.5) (1.0.0)\n",
            "Requirement already satisfied: murmurhash<1.1.0,>=0.28.0 in /usr/local/lib/python3.7/dist-packages (from spacy>=2.2.2->es_core_news_sm==2.2.5) (1.0.6)\n",
            "Requirement already satisfied: tqdm<5.0.0,>=4.38.0 in /usr/local/lib/python3.7/dist-packages (from spacy>=2.2.2->es_core_news_sm==2.2.5) (4.62.3)\n",
            "Requirement already satisfied: numpy>=1.15.0 in /usr/local/lib/python3.7/dist-packages (from spacy>=2.2.2->es_core_news_sm==2.2.5) (1.19.5)\n",
            "Requirement already satisfied: cymem<2.1.0,>=2.0.2 in /usr/local/lib/python3.7/dist-packages (from spacy>=2.2.2->es_core_news_sm==2.2.5) (2.0.6)\n",
            "Requirement already satisfied: requests<3.0.0,>=2.13.0 in /usr/local/lib/python3.7/dist-packages (from spacy>=2.2.2->es_core_news_sm==2.2.5) (2.23.0)\n",
            "Requirement already satisfied: blis<0.5.0,>=0.4.0 in /usr/local/lib/python3.7/dist-packages (from spacy>=2.2.2->es_core_news_sm==2.2.5) (0.4.1)\n",
            "Requirement already satisfied: importlib-metadata>=0.20 in /usr/local/lib/python3.7/dist-packages (from catalogue<1.1.0,>=0.0.7->spacy>=2.2.2->es_core_news_sm==2.2.5) (4.10.0)\n",
            "Requirement already satisfied: typing-extensions>=3.6.4 in /usr/local/lib/python3.7/dist-packages (from importlib-metadata>=0.20->catalogue<1.1.0,>=0.0.7->spacy>=2.2.2->es_core_news_sm==2.2.5) (3.10.0.2)\n",
            "Requirement already satisfied: zipp>=0.5 in /usr/local/lib/python3.7/dist-packages (from importlib-metadata>=0.20->catalogue<1.1.0,>=0.0.7->spacy>=2.2.2->es_core_news_sm==2.2.5) (3.7.0)\n",
            "Requirement already satisfied: certifi>=2017.4.17 in /usr/local/lib/python3.7/dist-packages (from requests<3.0.0,>=2.13.0->spacy>=2.2.2->es_core_news_sm==2.2.5) (2021.10.8)\n",
            "Requirement already satisfied: urllib3!=1.25.0,!=1.25.1,<1.26,>=1.21.1 in /usr/local/lib/python3.7/dist-packages (from requests<3.0.0,>=2.13.0->spacy>=2.2.2->es_core_news_sm==2.2.5) (1.24.3)\n",
            "Requirement already satisfied: chardet<4,>=3.0.2 in /usr/local/lib/python3.7/dist-packages (from requests<3.0.0,>=2.13.0->spacy>=2.2.2->es_core_news_sm==2.2.5) (3.0.4)\n",
            "Requirement already satisfied: idna<3,>=2.5 in /usr/local/lib/python3.7/dist-packages (from requests<3.0.0,>=2.13.0->spacy>=2.2.2->es_core_news_sm==2.2.5) (2.10)\n",
            "Building wheels for collected packages: es-core-news-sm\n",
            "  Building wheel for es-core-news-sm (setup.py) ... \u001b[?25l\u001b[?25hdone\n",
            "  Created wheel for es-core-news-sm: filename=es_core_news_sm-2.2.5-py3-none-any.whl size=16172933 sha256=5ba2158211c80d5fe251bd40a1efe2e2e7a990cbe7acb0a3922fb8043443b849\n",
            "  Stored in directory: /tmp/pip-ephem-wheel-cache-z2bkzdfo/wheels/21/8d/a9/6c1a2809c55dd22cd9644ae503a52ba6206b04aa57ba83a3d8\n",
            "Successfully built es-core-news-sm\n",
            "Installing collected packages: es-core-news-sm\n",
            "Successfully installed es-core-news-sm-2.2.5\n",
            "\u001b[38;5;2m✔ Download and installation successful\u001b[0m\n",
            "You can now load the model via spacy.load('es_core_news_sm')\n",
            "Collecting es_core_news_sm==2.2.5\n",
            "  Downloading https://github.com/explosion/spacy-models/releases/download/es_core_news_sm-2.2.5/es_core_news_sm-2.2.5.tar.gz (16.2 MB)\n",
            "\u001b[K     |████████████████████████████████| 16.2 MB 28.8 MB/s \n",
            "\u001b[?25hRequirement already satisfied: spacy>=2.2.2 in /usr/local/lib/python3.7/dist-packages (from es_core_news_sm==2.2.5) (2.2.4)\n",
            "Requirement already satisfied: blis<0.5.0,>=0.4.0 in /usr/local/lib/python3.7/dist-packages (from spacy>=2.2.2->es_core_news_sm==2.2.5) (0.4.1)\n",
            "Requirement already satisfied: srsly<1.1.0,>=1.0.2 in /usr/local/lib/python3.7/dist-packages (from spacy>=2.2.2->es_core_news_sm==2.2.5) (1.0.5)\n",
            "Requirement already satisfied: tqdm<5.0.0,>=4.38.0 in /usr/local/lib/python3.7/dist-packages (from spacy>=2.2.2->es_core_news_sm==2.2.5) (4.62.3)\n",
            "Requirement already satisfied: requests<3.0.0,>=2.13.0 in /usr/local/lib/python3.7/dist-packages (from spacy>=2.2.2->es_core_news_sm==2.2.5) (2.23.0)\n",
            "Requirement already satisfied: catalogue<1.1.0,>=0.0.7 in /usr/local/lib/python3.7/dist-packages (from spacy>=2.2.2->es_core_news_sm==2.2.5) (1.0.0)\n",
            "Requirement already satisfied: murmurhash<1.1.0,>=0.28.0 in /usr/local/lib/python3.7/dist-packages (from spacy>=2.2.2->es_core_news_sm==2.2.5) (1.0.6)\n",
            "Requirement already satisfied: numpy>=1.15.0 in /usr/local/lib/python3.7/dist-packages (from spacy>=2.2.2->es_core_news_sm==2.2.5) (1.19.5)\n",
            "Requirement already satisfied: cymem<2.1.0,>=2.0.2 in /usr/local/lib/python3.7/dist-packages (from spacy>=2.2.2->es_core_news_sm==2.2.5) (2.0.6)\n",
            "Requirement already satisfied: preshed<3.1.0,>=3.0.2 in /usr/local/lib/python3.7/dist-packages (from spacy>=2.2.2->es_core_news_sm==2.2.5) (3.0.6)\n",
            "Requirement already satisfied: setuptools in /usr/local/lib/python3.7/dist-packages (from spacy>=2.2.2->es_core_news_sm==2.2.5) (57.4.0)\n",
            "Requirement already satisfied: wasabi<1.1.0,>=0.4.0 in /usr/local/lib/python3.7/dist-packages (from spacy>=2.2.2->es_core_news_sm==2.2.5) (0.9.0)\n",
            "Requirement already satisfied: thinc==7.4.0 in /usr/local/lib/python3.7/dist-packages (from spacy>=2.2.2->es_core_news_sm==2.2.5) (7.4.0)\n",
            "Requirement already satisfied: plac<1.2.0,>=0.9.6 in /usr/local/lib/python3.7/dist-packages (from spacy>=2.2.2->es_core_news_sm==2.2.5) (1.1.3)\n",
            "Requirement already satisfied: importlib-metadata>=0.20 in /usr/local/lib/python3.7/dist-packages (from catalogue<1.1.0,>=0.0.7->spacy>=2.2.2->es_core_news_sm==2.2.5) (4.10.0)\n",
            "Requirement already satisfied: typing-extensions>=3.6.4 in /usr/local/lib/python3.7/dist-packages (from importlib-metadata>=0.20->catalogue<1.1.0,>=0.0.7->spacy>=2.2.2->es_core_news_sm==2.2.5) (3.10.0.2)\n",
            "Requirement already satisfied: zipp>=0.5 in /usr/local/lib/python3.7/dist-packages (from importlib-metadata>=0.20->catalogue<1.1.0,>=0.0.7->spacy>=2.2.2->es_core_news_sm==2.2.5) (3.7.0)\n",
            "Requirement already satisfied: chardet<4,>=3.0.2 in /usr/local/lib/python3.7/dist-packages (from requests<3.0.0,>=2.13.0->spacy>=2.2.2->es_core_news_sm==2.2.5) (3.0.4)\n",
            "Requirement already satisfied: idna<3,>=2.5 in /usr/local/lib/python3.7/dist-packages (from requests<3.0.0,>=2.13.0->spacy>=2.2.2->es_core_news_sm==2.2.5) (2.10)\n",
            "Requirement already satisfied: certifi>=2017.4.17 in /usr/local/lib/python3.7/dist-packages (from requests<3.0.0,>=2.13.0->spacy>=2.2.2->es_core_news_sm==2.2.5) (2021.10.8)\n",
            "Requirement already satisfied: urllib3!=1.25.0,!=1.25.1,<1.26,>=1.21.1 in /usr/local/lib/python3.7/dist-packages (from requests<3.0.0,>=2.13.0->spacy>=2.2.2->es_core_news_sm==2.2.5) (1.24.3)\n",
            "\u001b[38;5;2m✔ Download and installation successful\u001b[0m\n",
            "You can now load the model via spacy.load('es_core_news_sm')\n",
            "\u001b[38;5;2m✔ Linking successful\u001b[0m\n",
            "/usr/local/lib/python3.7/dist-packages/es_core_news_sm -->\n",
            "/usr/local/lib/python3.7/dist-packages/spacy/data/es\n",
            "You can now load the model via spacy.load('es')\n"
          ]
        }
      ]
    },
    {
      "cell_type": "code",
      "source": [
        "from nltk.tokenize import word_tokenize\n",
        "    \n",
        "def clasificar(text):\n",
        "  sr = nltk.corpus.stopwords.words('spanish')\n",
        "  word_tokens = word_tokenize(text)\n",
        "  \n",
        "  filtered_sentence = [w for w in word_tokens if not w.lower() in sr]\n",
        "  \n",
        "  filtered_sentence = ''\n",
        "  \n",
        "  for w in word_tokens:\n",
        "      if w not in sr:\n",
        "          filtered_sentence+= (w+' ')\n",
        "  text = filtered_sentence\n",
        "  \n",
        "  # 5 lemma\n",
        "  import pkg_resources,imp\n",
        "  imp.reload(pkg_resources)\n",
        "  import spacy\n",
        "  nlp=spacy.load(\"es_core_news_sm\")\n",
        "\n",
        "  doc = nlp(text)\n",
        "  single_text_processed = ''\n",
        "  for token in doc: \n",
        "    single_text_processed += (token.lemma_+' ')\n",
        "    #print(token.text, \"|\", token.lemma_, '|', token.pos_)\n",
        "  \n",
        "  X_val = val[\"text_processed\"].fillna(\"fillna\").values\n",
        "  tokenizer = preprocessing.text.Tokenizer(num_words=max_seq)\n",
        "  tokenizer.fit_on_texts(X_val)\n",
        "  single_text_processed = tokenizer.texts_to_sequences([single_text_processed])\n",
        "  single_text_processed = preprocessing.sequence.pad_sequences(single_text_processed, padding='post', maxlen=max_seq)\n",
        "  pred= model.predict(single_text_processed)\n",
        "  #print(pred)\n",
        "  if pred <= 0.55: \n",
        "    return 'no violenta' \n",
        "  else: \n",
        "    return 'violenta'"
      ],
      "metadata": {
        "id": "ppJkKxTSHHMt"
      },
      "execution_count": null,
      "outputs": []
    },
    {
      "cell_type": "code",
      "source": [
        "text = \"te quiero mucho hermosa mujer\"\n",
        "print(clasificar(text))"
      ],
      "metadata": {
        "colab": {
          "base_uri": "https://localhost:8080/"
        },
        "id": "LDdB2s_fHufs",
        "outputId": "f460f093-d24a-47f7-db17-dea3d3e3bcb1"
      },
      "execution_count": null,
      "outputs": [
        {
          "output_type": "stream",
          "name": "stdout",
          "text": [
            "no violenta\n"
          ]
        }
      ]
    },
    {
      "cell_type": "markdown",
      "source": [
        "**Modelo Simple**"
      ],
      "metadata": {
        "id": "0qqF8gCABiFT"
      }
    },
    {
      "cell_type": "code",
      "source": [
        "from sklearn.linear_model import LogisticRegression\n",
        "\n",
        "classifier = LogisticRegression()\n",
        "classifier.fit(X_train_processed, y_train) \n",
        "score = classifier.score(X_test_processed, y_test)\n",
        "\n",
        "print(\"Precisión:\", score)"
      ],
      "metadata": {
        "colab": {
          "base_uri": "https://localhost:8080/"
        },
        "id": "fugXR-VJBbng",
        "outputId": "b93e2e4c-c97d-46f3-cb60-b76a371f24f7"
      },
      "execution_count": null,
      "outputs": [
        {
          "output_type": "stream",
          "name": "stdout",
          "text": [
            "Precisión: 0.6229508196721312\n"
          ]
        }
      ]
    }
  ]
}